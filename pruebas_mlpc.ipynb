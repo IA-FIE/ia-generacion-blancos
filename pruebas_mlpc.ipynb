{
 "cells": [
  {
   "cell_type": "code",
   "execution_count": 2,
   "metadata": {
    "collapsed": true
   },
   "outputs": [],
   "source": [
    "from modelo import tirador\n",
    "import numpy as np\n",
    "from sklearn.neural_network import MLPClassifier"
   ]
  },
  {
   "cell_type": "code",
   "execution_count": 3,
   "metadata": {
    "pycharm": {
     "name": "#%%\n"
    }
   },
   "outputs": [],
   "source": [
    "tirador = tirador.Tirador()\n",
    "clasificacion = []\n",
    "CANT_DATOS = 75000\n",
    "# Creamos CANT_DATOS muestras mitad aprobadas y mitad desaprobadas\n",
    "for _ in range(CANT_DATOS // 2):\n",
    "    tirador.tirar(max_ancho=6, max_alto=6)\n",
    "    clasificacion.append(1) # Lo clasificamos como 1 \"Aprobado\"\n",
    "    tirador.tirar_mal(max_ancho=24, max_alto=28)\n",
    "    clasificacion.append(0) # Lo clasificamos como 0 \"Desaprobado\""
   ]
  },
  {
   "cell_type": "code",
   "execution_count": 4,
   "metadata": {
    "pycharm": {
     "name": "#%%\n"
    }
   },
   "outputs": [],
   "source": [
    "# Metemos los datos en numpy arrays y los acomodamos\n",
    "matriz_datos = np.array(tirador.get_datos(), dtype=float)\n",
    "matriz_clasificacion = np.array(clasificacion, dtype=float)\n",
    "# Aplanamos los datos\n",
    "matriz_datos= matriz_datos.reshape(CANT_DATOS, 28 * 24)\n",
    "tirador.descartar_blancos()"
   ]
  },
  {
   "cell_type": "code",
   "execution_count": null,
   "metadata": {
    "pycharm": {
     "is_executing": true,
     "name": "#%%\n"
    }
   },
   "outputs": [
    {
     "name": "stdout",
     "output_type": "stream",
     "text": [
      "Iteration 1, loss = 0.69413037\n",
      "Iteration 2, loss = 0.58127745\n",
      "Iteration 3, loss = 0.45796176\n",
      "Iteration 4, loss = 0.40683602\n",
      "Iteration 5, loss = 0.37463685\n",
      "Iteration 6, loss = 0.34556992\n",
      "Iteration 7, loss = 0.31781895\n",
      "Iteration 8, loss = 0.28953784\n",
      "Iteration 9, loss = 0.25905201\n",
      "Iteration 10, loss = 0.22674647\n",
      "Iteration 11, loss = 0.19664179\n",
      "Iteration 12, loss = 0.17393753\n",
      "Iteration 13, loss = 0.15178430\n",
      "Iteration 14, loss = 0.13282887\n",
      "Iteration 15, loss = 0.11585352\n",
      "Iteration 16, loss = 0.10151773\n",
      "Iteration 17, loss = 0.08817755\n",
      "Iteration 18, loss = 0.07487566\n",
      "Iteration 19, loss = 0.06291811\n",
      "Iteration 20, loss = 0.05304399\n",
      "Iteration 21, loss = 0.04513852\n",
      "Iteration 22, loss = 0.03745901\n",
      "Iteration 23, loss = 0.03009761\n",
      "Iteration 24, loss = 0.02526854\n",
      "Iteration 25, loss = 0.02224599\n",
      "Iteration 26, loss = 0.02034327\n"
     ]
    }
   ],
   "source": [
    "# Creamos el perceptron y lo entrenamos\n",
    "clf = MLPClassifier(solver='adam', activation=\"tanh\",max_iter=400, random_state=1,\n",
    "                    hidden_layer_sizes=(672//6,672//9,672//12), verbose=True)\n",
    "clf = clf.fit(matriz_datos, matriz_clasificacion)"
   ]
  },
  {
   "cell_type": "code",
   "execution_count": 10,
   "metadata": {
    "pycharm": {
     "name": "#%%\n"
    }
   },
   "outputs": [
    {
     "data": {
      "image/png": "[encoded data removed]",
      "text/plain": [
       "<Figure size 432x288 with 2 Axes>"
      ]
     },
     "metadata": {
      "needs_background": "light"
     },
     "output_type": "display_data"
    }
   ],
   "source": [
    "# Vamos a probar con el blanco real del cadete\n",
    "from blancos_reales import *\n",
    "from plot_disparos import heatmap, FILAS, COLUMNAS\n",
    "heatmap(blanco1, FILAS, COLUMNAS)\n",
    "blanco1 = np.array(blanco1, dtype=float)\n",
    "blanco1 = blanco1.reshape(1, 28 * 24)\n"
   ]
  },
  {
   "cell_type": "code",
   "execution_count": 13,
   "metadata": {
    "pycharm": {
     "name": "#%%\n"
    }
   },
   "outputs": [
    {
     "data": {
      "text/plain": [
       "array([1.])"
      ]
     },
     "execution_count": 13,
     "metadata": {},
     "output_type": "execute_result"
    }
   ],
   "source": [
    "clf.predict(blanco1)\n"
   ]
  },
  {
   "cell_type": "code",
   "execution_count": null,
   "metadata": {
    "pycharm": {
     "name": "#%%\n"
    }
   },
   "outputs": [],
   "source": [
    "\n"
   ]
  }
 ],
 "metadata": {
  "kernelspec": {
   "display_name": "Python 3",
   "language": "python",
   "name": "python3"
  },
  "language_info": {
   "codemirror_mode": {
    "name": "ipython",
    "version": 3
   },
   "file_extension": ".py",
   "mimetype": "text/x-python",
   "name": "python",
   "nbconvert_exporter": "python",
   "pygments_lexer": "ipython3",
   "version": "3.8.2"
  }
 },
 "nbformat": 4,
 "nbformat_minor": 1
}