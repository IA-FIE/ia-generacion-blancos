{
 "cells": [
  {
   "cell_type": "code",
   "execution_count": null,
   "metadata": {
    "collapsed": true
   },
   "outputs": [],
   "source": [
    "from modelo import tirador\n",
    "import numpy as np\n",
    "from sklearn.neural_network import MLPClassifier"
   ]
  },
  {
   "cell_type": "code",
   "execution_count": null,
   "outputs": [],
   "source": [
    "tirador = tirador.Tirador()\n",
    "clasificacion = []\n",
    "CANT_DATOS = 75000\n",
    "# Creamos CANT_DATOS muestras mitad aprobadas y mitad desaprobadas\n",
    "for _ in range(CANT_DATOS // 2):\n",
    "    tirador.tirar(max_ancho=6, max_alto=6)\n",
    "    clasificacion.append(1) # Lo clasificamos como 1 \"Aprobado\"\n",
    "    tirador.tirar_mal(max_ancho=24, max_alto=28)\n",
    "    clasificacion.append(0) # Lo clasificamos como 0 \"Desaprobado\""
   ],
   "metadata": {
    "collapsed": false,
    "pycharm": {
     "name": "#%%\n"
    }
   }
  },
  {
   "cell_type": "code",
   "execution_count": null,
   "outputs": [],
   "source": [
    "# Metemos los datos en numpy arrays y los acomodamos\n",
    "matriz_datos = np.array(tirador.get_datos(), dtype=float)\n",
    "matriz_clasificacion = np.array(clasificacion, dtype=float)\n",
    "# Aplanamos los datos\n",
    "matriz_datos= matriz_datos.reshape(CANT_DATOS, 28 * 24)"
   ],
   "metadata": {
    "collapsed": false,
    "pycharm": {
     "name": "#%%\n"
    }
   }
  },
  {
   "cell_type": "code",
   "execution_count": null,
   "outputs": [],
   "source": [
    "# Creamos el perceptron y lo entrenamos\n",
    "clf = MLPClassifier(solver='adam', activation=\"tanh\",max_iter=400, random_state=1,\n",
    "                    hidden_layer_sizes=(672//6,672//9,672//12), verbose=True)\n",
    "clf = clf.fit(matriz_datos, matriz_clasificacion)\n",
    "tirador.descartar_blancos()"
   ],
   "metadata": {
    "collapsed": false,
    "pycharm": {
     "name": "#%%\n"
    }
   }
  },
  {
   "cell_type": "code",
   "execution_count": null,
   "outputs": [],
   "source": [
    "\n"
   ],
   "metadata": {
    "collapsed": false,
    "pycharm": {
     "name": "#%%\n"
    }
   }
  }
 ],
 "metadata": {
  "kernelspec": {
   "display_name": "Python 3",
   "language": "python",
   "name": "python3"
  },
  "language_info": {
   "codemirror_mode": {
    "name": "ipython",
    "version": 2
   },
   "file_extension": ".py",
   "mimetype": "text/x-python",
   "name": "python",
   "nbconvert_exporter": "python",
   "pygments_lexer": "ipython2",
   "version": "2.7.6"
  }
 },
 "nbformat": 4,
 "nbformat_minor": 0
}