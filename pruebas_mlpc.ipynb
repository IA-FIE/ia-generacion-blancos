{
 "cells": [
  {
   "cell_type": "markdown",
   "metadata": {
    "pycharm": {
     "name": "#%% md\n"
    }
   },
   "source": [
    "# Aplicación de Redes Neuronales Artificiales\n",
    "# Análisis de grupos de Impactos del Diagnóstico del Método Optimizado de Tiro Escuela del Ejército Argentino\n"
   ]
  },
  {
   "cell_type": "markdown",
   "metadata": {},
   "source": [
    "Delcourt, Javier - Patricelli, Horacio - Pavón, Francisco - Schamberger, Edith"
   ]
  },
  {
   "cell_type": "markdown",
   "metadata": {},
   "source": [
    "Continuacción del proyecto desarrollado por:\n",
    "Salazar, Nahuel; Maceira, Carlos; Cabrera, Ezequiel"
   ]
  },
  {
   "cell_type": "markdown",
   "source": [
    "## Facultad de Ingeniería del Ejército – Universidad de la Defensa Nacional (UNDEF)"
   ],
   "metadata": {
    "collapsed": false
   }
  },
  {
   "cell_type": "markdown",
   "metadata": {},
   "source": [
    "## Preparación y entrenamiento del perceptron"
   ]
  },
  {
   "cell_type": "markdown",
   "metadata": {},
   "source": [
    "Importamos las librerías necesarias"
   ]
  },
  {
   "cell_type": "code",
   "execution_count": 1,
   "metadata": {
    "pycharm": {
     "name": "#%%\n"
    }
   },
   "outputs": [],
   "source": [
    "from modelo import tirador\n",
    "import numpy as np\n",
    "from sklearn.neural_network import MLPClassifier"
   ]
  },
  {
   "cell_type": "markdown",
   "metadata": {
    "pycharm": {
     "name": "#%% md\n"
    }
   },
   "source": [
    "Creamos CANT_DATOS iguales por cada muestra"
   ]
  },
  {
   "cell_type": "code",
   "execution_count": null,
   "metadata": {
    "pycharm": {
     "name": "#%%\n"
    }
   },
   "outputs": [],
   "source": [
    "tirador = tirador.Tirador()\n",
    "clasificacion = []\n",
    "CANT_DATOS = 120000\n",
    "\n",
    "for _ in range(CANT_DATOS // 6):\n",
    "    tirador.tirar(max_ancho=6, max_alto=6)\n",
    "    clasificacion.append(1)  # Lo clasificamos como 1 \"Aprobado\"\n",
    "    tirador.tirar_punteria(max_ancho=6, max_alto=6)\n",
    "    clasificacion.append(2)  # Lo clasificamos como 2 \"Error punteria\"\n",
    "    tirador.tirar_mal_c_d_e(max_ancho=24, max_alto=28)\n",
    "    clasificacion.append(3)  # Lo clasificamos como 3 \"Error tironeo\"\n",
    "    tirador.tirar_mal_c_d_e(max_ancho=6, max_alto=28)\n",
    "    clasificacion.append(4)  # Lo clasificamos como 4 \"Error respiracion\"\n",
    "    tirador.tirar_mal_c_d_e(max_ancho=24, max_alto=6)\n",
    "    clasificacion.append(5)  # Lo clasificamos como 5 \"Error posicion inestable\"\n",
    "    tirador.tirar_mal(max_ancho=24, max_alto=28)\n",
    "    clasificacion.append(0)  # Lo clasificamos como 0 \"Deficiente instruccion\""
   ]
  },
  {
   "cell_type": "markdown",
   "metadata": {
    "pycharm": {
     "name": "#%% md\n"
    }
   },
   "source": [
    "Metemos los datos en numpy arrays y los acomodamos"
   ]
  },
  {
   "cell_type": "code",
   "execution_count": null,
   "metadata": {
    "pycharm": {
     "name": "#%%\n"
    }
   },
   "outputs": [],
   "source": [
    "matriz_datos = np.array(tirador.get_datos(), dtype=float)\n",
    "matriz_clasificacion = np.array(clasificacion, dtype=float)"
   ]
  },
  {
   "cell_type": "markdown",
   "metadata": {
    "pycharm": {
     "name": "#%% md\n"
    }
   },
   "source": [
    "Aplanamos los datos"
   ]
  },
  {
   "cell_type": "code",
   "execution_count": null,
   "metadata": {
    "pycharm": {
     "name": "#%%\n"
    }
   },
   "outputs": [],
   "source": [
    "matriz_datos= matriz_datos.reshape(CANT_DATOS, 28 * 24)\n",
    "tirador.descartar_blancos()"
   ]
  },
  {
   "cell_type": "markdown",
   "metadata": {
    "pycharm": {
     "is_executing": true,
     "name": "#%% md\n"
    }
   },
   "source": [
    "Creamos el perceptron y lo entrenamos"
   ]
  },
  {
   "cell_type": "code",
   "execution_count": null,
   "metadata": {
    "pycharm": {
     "name": "#%%\n"
    }
   },
   "outputs": [],
   "source": [
    "clf = MLPClassifier(solver='adam', activation=\"tanh\",\n",
    "                    max_iter=800, random_state=6,\n",
    "                    hidden_layer_sizes=(672//6, 672//9, 672//12),\n",
    "                    verbose=True)\n",
    "clf = clf.fit(matriz_datos, matriz_clasificacion)\n",
    "tirador.descartar_blancos()"
   ]
  },
  {
   "cell_type": "markdown",
   "metadata": {
    "pycharm": {
     "name": "#%% md\n"
    }
   },
   "source": [
    "## Ejecución de pruebas con blancos correspondientes a cada caso"
   ]
  },
  {
   "cell_type": "code",
   "execution_count": null,
   "metadata": {
    "pycharm": {
     "name": "#%%\n"
    }
   },
   "outputs": [],
   "source": [
    "from blancos_reales import *\n",
    "from plot_disparos import heatmap, FILAS, COLUMNAS"
   ]
  },
  {
   "cell_type": "markdown",
   "metadata": {
    "pycharm": {
     "name": "#%% md\n"
    }
   },
   "source": [
    "Prueba caso A - \"aprobado\" (debe ser 1.0) "
   ]
  },
  {
   "cell_type": "code",
   "execution_count": null,
   "metadata": {
    "pycharm": {
     "name": "#%%\n"
    }
   },
   "outputs": [],
   "source": [
    "heatmap(blancoA, FILAS, COLUMNAS)\n",
    "blancoA = np.array(blancoA, dtype=float)\n",
    "blancoA = blancoA.reshape(1, 28 * 24)\n",
    "clf.predict(blancoA)"
   ]
  },
  {
   "cell_type": "markdown",
   "metadata": {},
   "source": [
    "Prueba caso B - Error de puntería (debe ser 2.0)"
   ]
  },
  {
   "cell_type": "code",
   "execution_count": null,
   "metadata": {
    "pycharm": {
     "name": "#%%\n"
    }
   },
   "outputs": [],
   "source": [
    "heatmap(blancoB, FILAS, COLUMNAS)\n",
    "blancoB = np.array(blancoB, dtype=float)\n",
    "blancoB = blancoB.reshape(1, 28 * 24)\n",
    "clf.predict(blancoB)"
   ]
  },
  {
   "cell_type": "markdown",
   "metadata": {},
   "source": [
    "Prueba caso C - Error de tironeo (debe ser 3.0)"
   ]
  },
  {
   "cell_type": "code",
   "execution_count": null,
   "metadata": {
    "pycharm": {
     "name": "#%%\n"
    }
   },
   "outputs": [],
   "source": [
    "heatmap(blancoC, FILAS, COLUMNAS)\n",
    "blancoC = np.array(blancoC, dtype=float)\n",
    "blancoC = blancoC.reshape(1, 28 * 24)\n",
    "clf.predict(blancoC)"
   ]
  },
  {
   "cell_type": "markdown",
   "metadata": {},
   "source": [
    "Prueba caso D - Mala respiración (debe ser 4.0)"
   ]
  },
  {
   "cell_type": "code",
   "execution_count": null,
   "metadata": {
    "pycharm": {
     "name": "#%%\n"
    }
   },
   "outputs": [],
   "source": [
    "heatmap(blancoD, FILAS, COLUMNAS)\n",
    "blancoD = np.array(blancoD, dtype=float)\n",
    "blancoD = blancoD.reshape(1, 28 * 24)\n",
    "clf.predict(blancoD)"
   ]
  },
  {
   "cell_type": "markdown",
   "metadata": {},
   "source": [
    "Prueba caso E - Posición inestable (debe ser 5.0)"
   ]
  },
  {
   "cell_type": "code",
   "execution_count": null,
   "metadata": {
    "pycharm": {
     "name": "#%%\n"
    }
   },
   "outputs": [],
   "source": [
    "heatmap(blancoE, FILAS, COLUMNAS)\n",
    "blancoE = np.array(blancoE, dtype=float)\n",
    "blancoE = blancoE.reshape(1, 28 * 24)\n",
    "clf.predict(blancoE)"
   ]
  },
  {
   "cell_type": "markdown",
   "metadata": {},
   "source": [
    "Prueba caso F - Deficiente intrucción (debe ser 0.0)"
   ]
  },
  {
   "cell_type": "code",
   "execution_count": null,
   "metadata": {
    "pycharm": {
     "name": "#%%\n"
    },
    "scrolled": true
   },
   "outputs": [],
   "source": [
    "heatmap(blancoF, FILAS, COLUMNAS)\n",
    "blancoF = np.array(blancoF, dtype=float)\n",
    "blancoF = blancoF.reshape(1, 28 * 24)\n",
    "clf.predict(blancoF)"
   ]
  },
  {
   "cell_type": "markdown",
   "metadata": {},
   "source": [
    "Prueba Soldado A - \"aprobado\" (debe ser 1.0)"
   ]
  },
  {
   "cell_type": "code",
   "execution_count": null,
   "metadata": {
    "pycharm": {
     "name": "#%%\n"
    }
   },
   "outputs": [],
   "source": [
    "heatmap(blanco_soldado_A, FILAS, COLUMNAS)\n",
    "blanco_soldado_A = np.array(blanco_soldado_A, dtype=float)\n",
    "blanco_soldado_A = blanco_soldado_A.reshape(1, 28 * 24)\n",
    "clf.predict(blanco_soldado_A)"
   ]
  },
  {
   "cell_type": "markdown",
   "metadata": {},
   "source": [
    "Prueba Soldado B - Error de puntería (debe ser 2.0)"
   ]
  },
  {
   "cell_type": "code",
   "execution_count": null,
   "metadata": {
    "pycharm": {
     "name": "#%%\n"
    }
   },
   "outputs": [],
   "source": [
    "heatmap(blanco_soldado_B, FILAS, COLUMNAS)\n",
    "blanco_soldado_B = np.array(blanco_soldado_B, dtype=float)\n",
    "blanco_soldado_B = blanco_soldado_B.reshape(1, 28 * 24)\n",
    "clf.predict(blanco_soldado_B)"
   ]
  }
 ],
 "metadata": {
  "kernelspec": {
   "display_name": "Python 3 (ipykernel)",
   "language": "python",
   "name": "python3"
  },
  "language_info": {
   "codemirror_mode": {
    "name": "ipython",
    "version": 3
   },
   "file_extension": ".py",
   "mimetype": "text/x-python",
   "name": "python",
   "nbconvert_exporter": "python",
   "pygments_lexer": "ipython3",
   "version": "3.9.5"
  }
 },
 "nbformat": 4,
 "nbformat_minor": 1
}